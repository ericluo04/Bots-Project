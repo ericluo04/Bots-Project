{
 "cells": [
  {
   "cell_type": "code",
   "execution_count": 7,
   "metadata": {},
   "outputs": [],
   "source": [
    "import json\n",
    "import re\n",
    "import pandas as pd\n",
    "\n",
    "# CHANGE PATH ACCORDINGLY\n",
    "path = \"C:/Users/ericluo04/Documents/GitHub/Bots-Project/Code/\"\n",
    "\n",
    "# open up tweet json file\n",
    "with open(path + \"1. HK Dataset/HK English/tweet.json\") as json_file:\n",
    "    data = [json.loads(line) for line in json_file]"
   ]
  },
  {
   "cell_type": "code",
   "execution_count": 11,
   "metadata": {},
   "outputs": [],
   "source": [
    "no_dups = pd.DataFrame.from_dict(data)\n",
    "#dropping all rows with duplicate tweets\n",
    "no_dups.drop_duplicates(subset = \"text\", keep = False, inplace = True) "
   ]
  },
  {
   "cell_type": "code",
   "execution_count": 19,
   "metadata": {},
   "outputs": [],
   "source": [
    "no_json = no_dups.to_dict('records')"
   ]
  },
  {
   "cell_type": "code",
   "execution_count": 25,
   "metadata": {},
   "outputs": [],
   "source": [
    "# save user profiles as json file\n",
    "with open(path + '1. HK Dataset/HK English/' + 'tweet_nodups.json', 'w') as outfile:\n",
    "    for tweet in no_json:\n",
    "        json.dump(tweet, outfile)\n",
    "        outfile.write('\\n')"
   ]
  },
  {
   "cell_type": "code",
   "execution_count": null,
   "metadata": {},
   "outputs": [],
   "source": []
  }
 ],
 "metadata": {
  "kernelspec": {
   "display_name": "Python 3",
   "language": "python",
   "name": "python3"
  },
  "language_info": {
   "codemirror_mode": {
    "name": "ipython",
    "version": 3
   },
   "file_extension": ".py",
   "mimetype": "text/x-python",
   "name": "python",
   "nbconvert_exporter": "python",
   "pygments_lexer": "ipython3",
   "version": "3.7.3"
  }
 },
 "nbformat": 4,
 "nbformat_minor": 2
}
