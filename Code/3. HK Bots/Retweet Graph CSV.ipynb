{
 "cells": [
  {
   "cell_type": "code",
   "execution_count": 1,
   "metadata": {},
   "outputs": [],
   "source": [
    "import json\n",
    "import re\n",
    "import pandas as pd"
   ]
  },
  {
   "cell_type": "code",
   "execution_count": 3,
   "metadata": {},
   "outputs": [],
   "source": [
    "with open(r\"C:\\Users\\ericluo04\\Documents\\GitHub\\Bots-Project\\Code\\1. HK Dataset\\HK English\\tweet.json\") as json_file:\n",
    "    data = [json.loads(line) for line in json_file]"
   ]
  },
  {
   "cell_type": "code",
   "execution_count": 4,
   "metadata": {
    "scrolled": true
   },
   "outputs": [],
   "source": [
    "for i in range(len(data)):\n",
    "    screen_name = re.search(\"RT @([\\w]*):\", data[i]['text'])\n",
    "    if screen_name != None:\n",
    "        data[i]['retweet_screen_name'] = screen_name.group(1)\n",
    "    else:\n",
    "        data[i]['retweet_screen_name'] = None"
   ]
  },
  {
   "cell_type": "code",
   "execution_count": 5,
   "metadata": {},
   "outputs": [],
   "source": [
    "hkdf = pd.DataFrame.from_dict(data)[['user_id','screen_name','retweet_screen_name']]\n",
    "hkdf = hkdf.dropna()"
   ]
  },
  {
   "cell_type": "code",
   "execution_count": 8,
   "metadata": {},
   "outputs": [],
   "source": [
    "userdict = pd.Series(hkdf.user_id.values, index=hkdf.screen_name).to_dict()\n",
    "\n",
    "hkdf[\"retweet_user_id\"] = hkdf[\"retweet_screen_name\"].map(userdict)\n",
    "hkdf_short = hkdf.dropna()"
   ]
  },
  {
   "cell_type": "code",
   "execution_count": 9,
   "metadata": {},
   "outputs": [],
   "source": [
    "hkdf_forcsvoutput = hkdf_short.groupby(hkdf_short.columns.tolist()).size().reset_index().\\\n",
    "    rename(columns={0:'num_retweets'}).sort_values(['num_retweets'], ascending=[True])"
   ]
  },
  {
   "cell_type": "code",
   "execution_count": 17,
   "metadata": {},
   "outputs": [],
   "source": [
    "hkdf_forcsvoutput = hkdf_forcsvoutput[['user_id', 'retweet_user_id', 'num_retweets']]"
   ]
  },
  {
   "cell_type": "code",
   "execution_count": 18,
   "metadata": {},
   "outputs": [
    {
     "data": {
      "text/html": [
       "<div>\n",
       "<style scoped>\n",
       "    .dataframe tbody tr th:only-of-type {\n",
       "        vertical-align: middle;\n",
       "    }\n",
       "\n",
       "    .dataframe tbody tr th {\n",
       "        vertical-align: top;\n",
       "    }\n",
       "\n",
       "    .dataframe thead th {\n",
       "        text-align: right;\n",
       "    }\n",
       "</style>\n",
       "<table border=\"1\" class=\"dataframe\">\n",
       "  <thead>\n",
       "    <tr style=\"text-align: right;\">\n",
       "      <th></th>\n",
       "      <th>user_id</th>\n",
       "      <th>retweet_user_id</th>\n",
       "      <th>num_retweets</th>\n",
       "    </tr>\n",
       "  </thead>\n",
       "  <tbody>\n",
       "    <tr>\n",
       "      <td>397013</td>\n",
       "      <td>866854830605717504</td>\n",
       "      <td>1.152452e+18</td>\n",
       "      <td>1</td>\n",
       "    </tr>\n",
       "    <tr>\n",
       "      <td>507616</td>\n",
       "      <td>1080833930918416385</td>\n",
       "      <td>5.516669e+07</td>\n",
       "      <td>1</td>\n",
       "    </tr>\n",
       "    <tr>\n",
       "      <td>507618</td>\n",
       "      <td>1080833930918416385</td>\n",
       "      <td>8.295790e+17</td>\n",
       "      <td>1</td>\n",
       "    </tr>\n",
       "    <tr>\n",
       "      <td>507619</td>\n",
       "      <td>1080833930918416385</td>\n",
       "      <td>1.209913e+08</td>\n",
       "      <td>1</td>\n",
       "    </tr>\n",
       "    <tr>\n",
       "      <td>507621</td>\n",
       "      <td>1080833930918416385</td>\n",
       "      <td>2.706793e+08</td>\n",
       "      <td>1</td>\n",
       "    </tr>\n",
       "    <tr>\n",
       "      <td>...</td>\n",
       "      <td>...</td>\n",
       "      <td>...</td>\n",
       "      <td>...</td>\n",
       "    </tr>\n",
       "    <tr>\n",
       "      <td>698654</td>\n",
       "      <td>1168915686867066880</td>\n",
       "      <td>3.071162e+09</td>\n",
       "      <td>362</td>\n",
       "    </tr>\n",
       "    <tr>\n",
       "      <td>720118</td>\n",
       "      <td>1169646971981717506</td>\n",
       "      <td>3.071162e+09</td>\n",
       "      <td>399</td>\n",
       "    </tr>\n",
       "    <tr>\n",
       "      <td>113514</td>\n",
       "      <td>249052113</td>\n",
       "      <td>3.071162e+09</td>\n",
       "      <td>410</td>\n",
       "    </tr>\n",
       "    <tr>\n",
       "      <td>269488</td>\n",
       "      <td>2788078109</td>\n",
       "      <td>3.071162e+09</td>\n",
       "      <td>447</td>\n",
       "    </tr>\n",
       "    <tr>\n",
       "      <td>300346</td>\n",
       "      <td>3228435266</td>\n",
       "      <td>3.071162e+09</td>\n",
       "      <td>478</td>\n",
       "    </tr>\n",
       "  </tbody>\n",
       "</table>\n",
       "<p>794027 rows × 3 columns</p>\n",
       "</div>"
      ],
      "text/plain": [
       "                    user_id  retweet_user_id  num_retweets\n",
       "397013   866854830605717504     1.152452e+18             1\n",
       "507616  1080833930918416385     5.516669e+07             1\n",
       "507618  1080833930918416385     8.295790e+17             1\n",
       "507619  1080833930918416385     1.209913e+08             1\n",
       "507621  1080833930918416385     2.706793e+08             1\n",
       "...                     ...              ...           ...\n",
       "698654  1168915686867066880     3.071162e+09           362\n",
       "720118  1169646971981717506     3.071162e+09           399\n",
       "113514            249052113     3.071162e+09           410\n",
       "269488           2788078109     3.071162e+09           447\n",
       "300346           3228435266     3.071162e+09           478\n",
       "\n",
       "[794027 rows x 3 columns]"
      ]
     },
     "execution_count": 18,
     "metadata": {},
     "output_type": "execute_result"
    }
   ],
   "source": [
    "hkdf_forcsvoutput"
   ]
  },
  {
   "cell_type": "code",
   "execution_count": 10,
   "metadata": {},
   "outputs": [],
   "source": [
    "hkdf_forcsvoutput.to_csv('testTweetsoutput.csv',index=False)"
   ]
  }
 ],
 "metadata": {
  "kernelspec": {
   "display_name": "Python 3",
   "language": "python",
   "name": "python3"
  },
  "language_info": {
   "codemirror_mode": {
    "name": "ipython",
    "version": 3
   },
   "file_extension": ".py",
   "mimetype": "text/x-python",
   "name": "python",
   "nbconvert_exporter": "python",
   "pygments_lexer": "ipython3",
   "version": "3.7.3"
  }
 },
 "nbformat": 4,
 "nbformat_minor": 2
}
