{
 "cells": [
  {
   "cell_type": "code",
   "execution_count": 3,
   "metadata": {},
   "outputs": [],
   "source": [
    "import json\n",
    "import re\n",
    "import pandas as pd"
   ]
  },
  {
   "cell_type": "code",
   "execution_count": 14,
   "metadata": {},
   "outputs": [],
   "source": [
    "path = \"C:/Users/ericluo04/Documents/GitHub/Bots-Project/Code/\""
   ]
  },
  {
   "cell_type": "code",
   "execution_count": 4,
   "metadata": {},
   "outputs": [],
   "source": [
    "with open(r\"C:\\Users\\ericluo04\\Documents\\GitHub\\Bots-Project\\Code\\1. HK Dataset\\HK English\\tweet_nodups.json\") as json_file:\n",
    "    data = [json.loads(line) for line in json_file]"
   ]
  },
  {
   "cell_type": "code",
   "execution_count": 5,
   "metadata": {
    "scrolled": true
   },
   "outputs": [],
   "source": [
    "for i in range(len(data)):\n",
    "    screen_name = re.search(\"RT @([\\w]*):\", data[i]['text'])\n",
    "    if screen_name != None:\n",
    "        data[i]['retweet_screen_name'] = screen_name.group(1)\n",
    "    else:\n",
    "        data[i]['retweet_screen_name'] = None"
   ]
  },
  {
   "cell_type": "code",
   "execution_count": 6,
   "metadata": {},
   "outputs": [],
   "source": [
    "hkdf = pd.DataFrame.from_dict(data)[['user_id','screen_name','retweet_screen_name']]\n",
    "hkdf = hkdf.dropna()"
   ]
  },
  {
   "cell_type": "code",
   "execution_count": 11,
   "metadata": {},
   "outputs": [],
   "source": [
    "userdict = pd.Series(hkdf.user_id.values, index=hkdf.screen_name).to_dict()\n",
    "\n",
    "hkdf[\"retweet_user_id\"] = hkdf[\"retweet_screen_name\"].map(userdict)\n",
    "hkdf_short = hkdf.dropna()"
   ]
  },
  {
   "cell_type": "code",
   "execution_count": 12,
   "metadata": {},
   "outputs": [],
   "source": [
    "hkdf_forcsvoutput = hkdf_short.groupby(hkdf_short.columns.tolist()).size().reset_index().\\\n",
    "    rename(columns={0:'num_retweets'}).sort_values(['num_retweets'], ascending=[True])"
   ]
  },
  {
   "cell_type": "code",
   "execution_count": 13,
   "metadata": {},
   "outputs": [
    {
     "data": {
      "text/html": [
       "<div>\n",
       "<style scoped>\n",
       "    .dataframe tbody tr th:only-of-type {\n",
       "        vertical-align: middle;\n",
       "    }\n",
       "\n",
       "    .dataframe tbody tr th {\n",
       "        vertical-align: top;\n",
       "    }\n",
       "\n",
       "    .dataframe thead th {\n",
       "        text-align: right;\n",
       "    }\n",
       "</style>\n",
       "<table border=\"1\" class=\"dataframe\">\n",
       "  <thead>\n",
       "    <tr style=\"text-align: right;\">\n",
       "      <th></th>\n",
       "      <th>user_id</th>\n",
       "      <th>screen_name</th>\n",
       "      <th>retweet_screen_name</th>\n",
       "      <th>retweet_user_id</th>\n",
       "      <th>num_retweets</th>\n",
       "    </tr>\n",
       "  </thead>\n",
       "  <tbody>\n",
       "    <tr>\n",
       "      <td>0</td>\n",
       "      <td>6193</td>\n",
       "      <td>ljsocal</td>\n",
       "      <td>the852spirit</td>\n",
       "      <td>9.207783e+08</td>\n",
       "      <td>1</td>\n",
       "    </tr>\n",
       "    <tr>\n",
       "      <td>6246</td>\n",
       "      <td>1094873295143325697</td>\n",
       "      <td>pingyuan141</td>\n",
       "      <td>pingyuan141</td>\n",
       "      <td>1.094873e+18</td>\n",
       "      <td>1</td>\n",
       "    </tr>\n",
       "    <tr>\n",
       "      <td>6245</td>\n",
       "      <td>1094873295143325697</td>\n",
       "      <td>pingyuan141</td>\n",
       "      <td>pch202064</td>\n",
       "      <td>1.138931e+18</td>\n",
       "      <td>1</td>\n",
       "    </tr>\n",
       "    <tr>\n",
       "      <td>6244</td>\n",
       "      <td>1094873295143325697</td>\n",
       "      <td>pingyuan141</td>\n",
       "      <td>Teibiko2</td>\n",
       "      <td>1.135190e+18</td>\n",
       "      <td>1</td>\n",
       "    </tr>\n",
       "    <tr>\n",
       "      <td>6243</td>\n",
       "      <td>1094873295143325697</td>\n",
       "      <td>pingyuan141</td>\n",
       "      <td>SuiBianXiaoGe</td>\n",
       "      <td>8.790744e+17</td>\n",
       "      <td>1</td>\n",
       "    </tr>\n",
       "    <tr>\n",
       "      <td>...</td>\n",
       "      <td>...</td>\n",
       "      <td>...</td>\n",
       "      <td>...</td>\n",
       "      <td>...</td>\n",
       "      <td>...</td>\n",
       "    </tr>\n",
       "    <tr>\n",
       "      <td>6567</td>\n",
       "      <td>1134263610518097920</td>\n",
       "      <td>MySdS0tXM8b0Teq</td>\n",
       "      <td>MySdS0tXM8b0Teq</td>\n",
       "      <td>1.134264e+18</td>\n",
       "      <td>22</td>\n",
       "    </tr>\n",
       "    <tr>\n",
       "      <td>5045</td>\n",
       "      <td>913136246771269637</td>\n",
       "      <td>sonoftaiwan</td>\n",
       "      <td>sonoftaiwan</td>\n",
       "      <td>9.131362e+17</td>\n",
       "      <td>22</td>\n",
       "    </tr>\n",
       "    <tr>\n",
       "      <td>5635</td>\n",
       "      <td>996033962878251008</td>\n",
       "      <td>iuY0jx47oBZfIlO</td>\n",
       "      <td>iuY0jx47oBZfIlO</td>\n",
       "      <td>9.960340e+17</td>\n",
       "      <td>36</td>\n",
       "    </tr>\n",
       "    <tr>\n",
       "      <td>4204</td>\n",
       "      <td>776126255309676544</td>\n",
       "      <td>arnohb112</td>\n",
       "      <td>the852spirit</td>\n",
       "      <td>9.207783e+08</td>\n",
       "      <td>38</td>\n",
       "    </tr>\n",
       "    <tr>\n",
       "      <td>880</td>\n",
       "      <td>91661819</td>\n",
       "      <td>caichu88</td>\n",
       "      <td>caichu88</td>\n",
       "      <td>9.166182e+07</td>\n",
       "      <td>60</td>\n",
       "    </tr>\n",
       "  </tbody>\n",
       "</table>\n",
       "<p>9635 rows × 5 columns</p>\n",
       "</div>"
      ],
      "text/plain": [
       "                  user_id      screen_name retweet_screen_name  \\\n",
       "0                    6193          ljsocal        the852spirit   \n",
       "6246  1094873295143325697      pingyuan141         pingyuan141   \n",
       "6245  1094873295143325697      pingyuan141           pch202064   \n",
       "6244  1094873295143325697      pingyuan141            Teibiko2   \n",
       "6243  1094873295143325697      pingyuan141       SuiBianXiaoGe   \n",
       "...                   ...              ...                 ...   \n",
       "6567  1134263610518097920  MySdS0tXM8b0Teq     MySdS0tXM8b0Teq   \n",
       "5045   913136246771269637      sonoftaiwan         sonoftaiwan   \n",
       "5635   996033962878251008  iuY0jx47oBZfIlO     iuY0jx47oBZfIlO   \n",
       "4204   776126255309676544        arnohb112        the852spirit   \n",
       "880              91661819         caichu88            caichu88   \n",
       "\n",
       "      retweet_user_id  num_retweets  \n",
       "0        9.207783e+08             1  \n",
       "6246     1.094873e+18             1  \n",
       "6245     1.138931e+18             1  \n",
       "6244     1.135190e+18             1  \n",
       "6243     8.790744e+17             1  \n",
       "...               ...           ...  \n",
       "6567     1.134264e+18            22  \n",
       "5045     9.131362e+17            22  \n",
       "5635     9.960340e+17            36  \n",
       "4204     9.207783e+08            38  \n",
       "880      9.166182e+07            60  \n",
       "\n",
       "[9635 rows x 5 columns]"
      ]
     },
     "execution_count": 13,
     "metadata": {},
     "output_type": "execute_result"
    }
   ],
   "source": [
    "hkdf_forcsvoutput"
   ]
  },
  {
   "cell_type": "code",
   "execution_count": 9,
   "metadata": {},
   "outputs": [],
   "source": [
    "hkdf_forcsvoutput = hkdf_forcsvoutput[['user_id', 'retweet_user_id', 'num_retweets']]"
   ]
  },
  {
   "cell_type": "code",
   "execution_count": 19,
   "metadata": {},
   "outputs": [
    {
     "ename": "FileNotFoundError",
     "evalue": "[Errno 2] No such file or directory: '/RT_graphs/DB_NAME_G0_RT_GRAPH.csv'",
     "output_type": "error",
     "traceback": [
      "\u001b[1;31m---------------------------------------------------------------------------\u001b[0m",
      "\u001b[1;31mFileNotFoundError\u001b[0m                         Traceback (most recent call last)",
      "\u001b[1;32m<ipython-input-19-1e8b211d9a5c>\u001b[0m in \u001b[0;36m<module>\u001b[1;34m\u001b[0m\n\u001b[1;32m----> 1\u001b[1;33m \u001b[0mhkdf_forcsvoutput\u001b[0m\u001b[1;33m.\u001b[0m\u001b[0mto_csv\u001b[0m\u001b[1;33m(\u001b[0m\u001b[1;34m\"/RT_graphs/DB_NAME_G0_RT_GRAPH.csv\"\u001b[0m\u001b[1;33m,\u001b[0m\u001b[0mindex\u001b[0m\u001b[1;33m=\u001b[0m\u001b[1;32mFalse\u001b[0m\u001b[1;33m)\u001b[0m\u001b[1;33m\u001b[0m\u001b[1;33m\u001b[0m\u001b[0m\n\u001b[0m",
      "\u001b[1;32m~\\Anaconda3\\lib\\site-packages\\pandas\\core\\generic.py\u001b[0m in \u001b[0;36mto_csv\u001b[1;34m(self, path_or_buf, sep, na_rep, float_format, columns, header, index, index_label, mode, encoding, compression, quoting, quotechar, line_terminator, chunksize, date_format, doublequote, escapechar, decimal)\u001b[0m\n\u001b[0;32m   3226\u001b[0m             \u001b[0mdecimal\u001b[0m\u001b[1;33m=\u001b[0m\u001b[0mdecimal\u001b[0m\u001b[1;33m,\u001b[0m\u001b[1;33m\u001b[0m\u001b[1;33m\u001b[0m\u001b[0m\n\u001b[0;32m   3227\u001b[0m         )\n\u001b[1;32m-> 3228\u001b[1;33m         \u001b[0mformatter\u001b[0m\u001b[1;33m.\u001b[0m\u001b[0msave\u001b[0m\u001b[1;33m(\u001b[0m\u001b[1;33m)\u001b[0m\u001b[1;33m\u001b[0m\u001b[1;33m\u001b[0m\u001b[0m\n\u001b[0m\u001b[0;32m   3229\u001b[0m \u001b[1;33m\u001b[0m\u001b[0m\n\u001b[0;32m   3230\u001b[0m         \u001b[1;32mif\u001b[0m \u001b[0mpath_or_buf\u001b[0m \u001b[1;32mis\u001b[0m \u001b[1;32mNone\u001b[0m\u001b[1;33m:\u001b[0m\u001b[1;33m\u001b[0m\u001b[1;33m\u001b[0m\u001b[0m\n",
      "\u001b[1;32m~\\Anaconda3\\lib\\site-packages\\pandas\\io\\formats\\csvs.py\u001b[0m in \u001b[0;36msave\u001b[1;34m(self)\u001b[0m\n\u001b[0;32m    181\u001b[0m                 \u001b[0mself\u001b[0m\u001b[1;33m.\u001b[0m\u001b[0mmode\u001b[0m\u001b[1;33m,\u001b[0m\u001b[1;33m\u001b[0m\u001b[1;33m\u001b[0m\u001b[0m\n\u001b[0;32m    182\u001b[0m                 \u001b[0mencoding\u001b[0m\u001b[1;33m=\u001b[0m\u001b[0mself\u001b[0m\u001b[1;33m.\u001b[0m\u001b[0mencoding\u001b[0m\u001b[1;33m,\u001b[0m\u001b[1;33m\u001b[0m\u001b[1;33m\u001b[0m\u001b[0m\n\u001b[1;32m--> 183\u001b[1;33m                 \u001b[0mcompression\u001b[0m\u001b[1;33m=\u001b[0m\u001b[0mself\u001b[0m\u001b[1;33m.\u001b[0m\u001b[0mcompression\u001b[0m\u001b[1;33m,\u001b[0m\u001b[1;33m\u001b[0m\u001b[1;33m\u001b[0m\u001b[0m\n\u001b[0m\u001b[0;32m    184\u001b[0m             )\n\u001b[0;32m    185\u001b[0m             \u001b[0mclose\u001b[0m \u001b[1;33m=\u001b[0m \u001b[1;32mTrue\u001b[0m\u001b[1;33m\u001b[0m\u001b[1;33m\u001b[0m\u001b[0m\n",
      "\u001b[1;32m~\\Anaconda3\\lib\\site-packages\\pandas\\io\\common.py\u001b[0m in \u001b[0;36m_get_handle\u001b[1;34m(path_or_buf, mode, encoding, compression, memory_map, is_text)\u001b[0m\n\u001b[0;32m    397\u001b[0m         \u001b[1;32mif\u001b[0m \u001b[0mencoding\u001b[0m\u001b[1;33m:\u001b[0m\u001b[1;33m\u001b[0m\u001b[1;33m\u001b[0m\u001b[0m\n\u001b[0;32m    398\u001b[0m             \u001b[1;31m# Encoding\u001b[0m\u001b[1;33m\u001b[0m\u001b[1;33m\u001b[0m\u001b[1;33m\u001b[0m\u001b[0m\n\u001b[1;32m--> 399\u001b[1;33m             \u001b[0mf\u001b[0m \u001b[1;33m=\u001b[0m \u001b[0mopen\u001b[0m\u001b[1;33m(\u001b[0m\u001b[0mpath_or_buf\u001b[0m\u001b[1;33m,\u001b[0m \u001b[0mmode\u001b[0m\u001b[1;33m,\u001b[0m \u001b[0mencoding\u001b[0m\u001b[1;33m=\u001b[0m\u001b[0mencoding\u001b[0m\u001b[1;33m,\u001b[0m \u001b[0mnewline\u001b[0m\u001b[1;33m=\u001b[0m\u001b[1;34m\"\"\u001b[0m\u001b[1;33m)\u001b[0m\u001b[1;33m\u001b[0m\u001b[1;33m\u001b[0m\u001b[0m\n\u001b[0m\u001b[0;32m    400\u001b[0m         \u001b[1;32melif\u001b[0m \u001b[0mis_text\u001b[0m\u001b[1;33m:\u001b[0m\u001b[1;33m\u001b[0m\u001b[1;33m\u001b[0m\u001b[0m\n\u001b[0;32m    401\u001b[0m             \u001b[1;31m# No explicit encoding\u001b[0m\u001b[1;33m\u001b[0m\u001b[1;33m\u001b[0m\u001b[1;33m\u001b[0m\u001b[0m\n",
      "\u001b[1;31mFileNotFoundError\u001b[0m: [Errno 2] No such file or directory: '/RT_graphs/DB_NAME_G0_RT_GRAPH.csv'"
     ]
    }
   ],
   "source": [
    "hkdf_forcsvoutput.to_csv(\"/RT_graphs/DB_NAME_G0_RT_GRAPH.csv\",index=False)\n"
   ]
  },
  {
   "cell_type": "code",
   "execution_count": null,
   "metadata": {},
   "outputs": [],
   "source": []
  }
 ],
 "metadata": {
  "kernelspec": {
   "display_name": "Python 3",
   "language": "python",
   "name": "python3"
  },
  "language_info": {
   "codemirror_mode": {
    "name": "ipython",
    "version": 3
   },
   "file_extension": ".py",
   "mimetype": "text/x-python",
   "name": "python",
   "nbconvert_exporter": "python",
   "pygments_lexer": "ipython3",
   "version": "3.7.3"
  }
 },
 "nbformat": 4,
 "nbformat_minor": 2
}
