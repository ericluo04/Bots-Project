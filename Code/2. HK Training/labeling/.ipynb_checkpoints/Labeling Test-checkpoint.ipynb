{
 "cells": [
  {
   "cell_type": "code",
   "execution_count": 1,
   "metadata": {},
   "outputs": [],
   "source": [
    "#!/usr/bin/env python\n",
    "# coding: utf-8\n",
    "\n",
    "#upload libraries\n",
    "import pandas as pd\n",
    "import numpy as np\n",
    "import json\n",
    "import sqlite3\n",
    "from os import listdir\n",
    "from os.path import isfile, join\n",
    "from itertools import islice\n",
    "import re\n",
    "import progressbar\n",
    "import csv"
   ]
  },
  {
   "cell_type": "code",
   "execution_count": 68,
   "metadata": {},
   "outputs": [],
   "source": [
    "# In[17]:\n",
    "#seperate tweets into their users\n",
    "def seperate(tweets):\n",
    "    '''\n",
    "    takes as input tweets and seperate them into their own users \n",
    "    return a dictionary with keys as user ids and values as description and all tweets of this user in input tweets\n",
    "    '''\n",
    "    users = dict()\n",
    "    bar = progressbar.ProgressBar()\n",
    "    for twt in bar(tweets):\n",
    "        id_ = twt['user_id']\n",
    "        try:\n",
    "            users[id_]['tweets'].append(twt['text'])\n",
    "        except:\n",
    "            u = dict()\n",
    "            #this user does not exist\n",
    "            u['description'] = twt['screen_name']\n",
    "            u['tweets'] = [twt['text']]\n",
    "            users[id_] = u\n",
    "    return(users)"
   ]
  },
  {
   "cell_type": "code",
   "execution_count": 24,
   "metadata": {},
   "outputs": [],
   "source": [
    "#keywords for pro your topic\n",
    "hash_pro = list(pd.read_csv(\"hashtags_pro.txt\", sep = \",\", skiprows= list(range(9)), names= ['hashtag'], encoding='utf-8').hashtag)\n",
    "#hash_pro = [''.join(re.findall('[0-9A-Za-z]', hash_pro[i])) for i in range(len(hash_pro))]\n",
    "keywords_pro = '|'.join(hash_pro)\n",
    "\n",
    "#keywords for anti your topic\n",
    "hash_anti = list(pd.read_csv(\"hashtags_anti.txt\", sep = \",\", skiprows= list(range(9)), names= ['hashtag'], encoding='utf-8').hashtag)\n",
    "#hash_anti = [''.join(re.findall('[0-9A-Za-z]', hash_anti[i])) for i in range(len(hash_anti))]\n",
    "keywords_anti = '|'.join(hash_anti) #for regex \n",
    "\n",
    "\n",
    "def pro_or_anti(description):\n",
    "    if bool(re.search(keywords_pro, description, re.IGNORECASE)):\n",
    "        return(0)\n",
    "    elif bool(re.search(keywords_anti, description, re.IGNORECASE)):\n",
    "        return(1)\n",
    "    else:\n",
    "        return(None)\n",
    "\n",
    "def pro_anti(users):\n",
    "    #list of pro, anti tweets\n",
    "    pro = []\n",
    "    anti = []\n",
    "    bar = progressbar.ProgressBar()\n",
    "    for usr in bar(users.keys()):\n",
    "        description = str(users[usr]['description'])\n",
    "        #print(description)\n",
    "        #see if pro/anti/None\n",
    "        ind = pro_or_anti(description)\n",
    "        if ind == 1: #antiocrat\n",
    "            anti.extend(list(users[usr]['tweets']))\n",
    "        elif ind == 0: #proublican\n",
    "            pro.extend(list(users[usr]['tweets']))\n",
    "        else:\n",
    "            pass\n",
    "    return(pro, anti)\n"
   ]
  },
  {
   "cell_type": "code",
   "execution_count": 25,
   "metadata": {},
   "outputs": [
    {
     "data": {
      "text/plain": [
       "'FreeHongKong |HKPoliceGangsCollusion |HKGestapo |SaveHongKong |twosystems |cansavehk |5DemandsNot1Less |5demandsnotoneless |LiberateHongKong |AntiExtraditionBill |boycottMulan |ShameHKgov |ShameHKpolice |FollowBackHongKong |China70years |PoliceBrutality |hongkongpolicebrutality|antichinazi|shout4HK |humanitariancrisis |followbackhongkong |freedomHK |fightforfreedom |china70yearsofshame |GloryToHongKong|願榮光歸香港 |光復香港 |時代革命 |沙田 |香港人加油 |五大訴求缺一不可|光復香港時代革命  |解散警隊刻不容緩|必須成立獨立調查委員會|齊上齊落 |時代革命 |願榮光歸香港 |十一國殤 |賀佢老母  |十一國殤日 |香港人加油 |光復香港時代革命|沒有暴徒只有暴政|香港加油  '"
      ]
     },
     "execution_count": 25,
     "metadata": {},
     "output_type": "execute_result"
    }
   ],
   "source": [
    "keywords_pro"
   ]
  },
  {
   "cell_type": "code",
   "execution_count": 26,
   "metadata": {},
   "outputs": [
    {
     "data": {
      "text/plain": [
       "'SupportChina |hkmobs |SupportHongKongPolice |hongkongterroristsshouldbejailed |stophkriots |RestorePeaceAndOrderHK |SupportHKSAR |SupportMulan |supportliuyifei |hongkongriot |HKriots |saynotohkviolence |selfloathinghkchinese |stophkpropaganda |onechinapolicy|一个中国 |守护香港 |阿sir我们挺你 |香港是中国的香港 |香港危機 |香港暴徒 |香港废青 |香港警察 |反送中 |反送中條例遊行 |废青你们只是政客的牺牲品 |中国一点都不能少 |严禁插手中国内政 |坚决维护祖国统一  |付国豪 |香港警察 |废青不是中国人|废青必死 |汉奸一个都没有好下场 |香港加油 |香港警察 |我支持香港警察你们可以打我了 |帝国主义休想得逞|支持香港警察 |废青滚出香港 |废青滚出中国 |废青 |香港机场|帝吧'"
      ]
     },
     "execution_count": 26,
     "metadata": {},
     "output_type": "execute_result"
    }
   ],
   "source": [
    "keywords_anti"
   ]
  },
  {
   "cell_type": "code",
   "execution_count": 27,
   "metadata": {},
   "outputs": [],
   "source": [
    "#create csv where we will store data\n",
    "\n",
    "with open('Data/labeled_tweets.csv', 'wb') as myfile:\n",
    "    wr = csv.writer(myfile, quoting=csv.QUOTE_ALL)\n",
    "    #wr.writerow(['index', 'tweet', 'label'])"
   ]
  },
  {
   "cell_type": "code",
   "execution_count": 20,
   "metadata": {},
   "outputs": [],
   "source": [
    "DB = r\"C:\\Users\\ericluo04\\Documents\\GitHub\\Bots-Project\\Code\\1. HK Dataset\\HK English\\HK English.db\"\n",
    "\n",
    "def get_all_users( json_str = False ):\n",
    "    conn = sqlite3.connect( DB )\n",
    "    conn.row_factory = sqlite3.Row # This enables column access by name: row['column_name'] \n",
    "    db = conn.cursor()\n",
    "\n",
    "    rows = db.execute('''\n",
    "    SELECT * from tweet\n",
    "    ''').fetchall()\n",
    "\n",
    "    conn.commit()\n",
    "    conn.close()\n",
    "\n",
    "    if json_str:\n",
    "        return [dict(ix) for ix in rows] #CREATE JSON\n",
    "\n",
    "    return rows\n",
    "\n",
    "users = get_all_users(json_str = True)"
   ]
  },
  {
   "cell_type": "code",
   "execution_count": 73,
   "metadata": {},
   "outputs": [
    {
     "name": "stdout",
     "output_type": "stream",
     "text": [
      "{'tweet_id': 1174478566186082306, 'user_id': 479495716, 'screen_name': 'Eunayai11111', 'created_at': '2019-09-19 00:21:25', 'text': 'RT @SpeakerPelosi: By passing the Hong Kong Human Rights &amp; Democracy Act, we will make our message to the people of #HongKong is clear: Ame\\\\u2026 ', 'geo_lat': None, 'geo_long': None, 'place_type': None, 'place_name': None, 'lang': 'en', 'source': '<a href=\"http://twitter.com/download/iphone\" rel=\"nofollow\">Twitter for iPhone</a> ', 'retweet_count': 3512, 'favorite_count': 0, 'retweet_status_id': 1174337895940988932, 'reply_to_status_id': None, 'reply_to_user_id': None, 'reply_to_screen_name': None}\n",
      "{'tweet_id': 1174478550394712064, 'user_id': 1229771556, 'screen_name': 'Ling4608', 'created_at': '2019-09-19 00:21:21', 'text': 'RT @SenToddYoung: We cannot allow Beijing\\\\u2019s communists to take advantage of #HongKong\\\\u2019s economic prosperity while systematically underminin\\\\u2026 ', 'geo_lat': None, 'geo_long': None, 'place_type': None, 'place_name': None, 'lang': 'en', 'source': '<a href=\"https://mobile.twitter.com\" rel=\"nofollow\">Twitter Web App</a> ', 'retweet_count': 1734, 'favorite_count': 0, 'retweet_status_id': 1174103237571547136, 'reply_to_status_id': None, 'reply_to_user_id': None, 'reply_to_screen_name': None}\n",
      "{'tweet_id': 1174478509667799040, 'user_id': 1165271203554086912, 'screen_name': '1984inChina', 'created_at': '2019-09-19 00:21:12', 'text': 'RT @Dystopia992: #CityU flash mob #orchestra march beginssss! Join us at #FestivalWalk \\\\U0001f1ed\\\\U0001f1f0\\\\n\\\\n#\\\\u6709\\\\u73ed\\\\u8b66\\\\u5bdf\\\\u6bc5\\\\u9032\\\\u4ed4 \\\\U0001f602\\\\n#DoYouHearThe ', 'geo_lat': None, 'geo_long': None, 'place_type': None, 'place_name': None, 'lang': 'en', 'source': '<a href=\"http://twitter.com/download/iphone\" rel=\"nofollow\">Twitter for iPhone</a> ', 'retweet_count': 276, 'favorite_count': 0, 'retweet_status_id': 1174295987923214336, 'reply_to_status_id': None, 'reply_to_user_id': None, 'reply_to_screen_name': None}\n",
      "{'tweet_id': 1174478509013553152, 'user_id': 4609887372, 'screen_name': 'jenniferrrng', 'created_at': '2019-09-19 00:21:11', 'text': 'RT @kpspan: [#NOW] \\\\nMr. Kim Eui-sung is spotted at Prince Edward Station.\\\\n\\\\nJust can^t express my immense gratitude to a Korean actor being\\\\u2026 ', 'geo_lat': None, 'geo_long': None, 'place_type': None, 'place_name': None, 'lang': 'en', 'source': '<a href=\"http://twitter.com/download/iphone\" rel=\"nofollow\">Twitter for iPhone</a> ', 'retweet_count': 125, 'favorite_count': 0, 'retweet_status_id': 1174277597078925313, 'reply_to_status_id': None, 'reply_to_user_id': None, 'reply_to_screen_name': None}\n",
      "{'tweet_id': 1174478502747234305, 'user_id': 48224368, 'screen_name': 'amplebiz', 'created_at': '2019-09-19 00:21:10', 'text': 'RT @Reuters: Speaker of the House Nancy Pelosi thanks Hong Kong activist leaders, including Joshua Wong,\\\\xa0for ^challenging the conscience^ o\\\\u2026 ', 'geo_lat': None, 'geo_long': None, 'place_type': None, 'place_name': None, 'lang': 'en', 'source': '<a href=\"http://twitter.com/download/android\" rel=\"nofollow\">Twitter for Android</a> ', 'retweet_count': 19, 'favorite_count': 0, 'retweet_status_id': 1174475691691319299, 'reply_to_status_id': None, 'reply_to_user_id': None, 'reply_to_screen_name': None}\n",
      "{'tweet_id': 1174478500113207297, 'user_id': 1163138710478606336, 'screen_name': 'Anyone53880603', 'created_at': '2019-09-19 00:21:09', 'text': 'RT @Woppa1Woppa: Heartfelt messages to HongKongers from our friends in #Japan.  For those thinking you are alone and feeling down, I hope t\\\\u2026 ', 'geo_lat': None, 'geo_long': None, 'place_type': None, 'place_name': None, 'lang': 'ja', 'source': '<a href=\"http://twitter.com/download/android\" rel=\"nofollow\">Twitter for Android</a> ', 'retweet_count': 61, 'favorite_count': 0, 'retweet_status_id': 1174392247023882241, 'reply_to_status_id': None, 'reply_to_user_id': None, 'reply_to_screen_name': None}\n",
      "{'tweet_id': 1174478499618230272, 'user_id': 1067669238133907456, 'screen_name': 'Tzuonly614', 'created_at': '2019-09-19 00:21:09', 'text': 'RT @Reuters: Speaker of the House Nancy Pelosi thanks Hong Kong activist leaders, including Joshua Wong,\\\\xa0for ^challenging the conscience^ o\\\\u2026 ', 'geo_lat': None, 'geo_long': None, 'place_type': None, 'place_name': None, 'lang': 'en', 'source': '<a href=\"https://mobile.twitter.com\" rel=\"nofollow\">Twitter Web App</a> ', 'retweet_count': 19, 'favorite_count': 0, 'retweet_status_id': 1174475691691319299, 'reply_to_status_id': None, 'reply_to_user_id': None, 'reply_to_screen_name': None}\n",
      "{'tweet_id': 1174478489308844032, 'user_id': 1106906940876177409, 'screen_name': 'PartapBadal', 'created_at': '2019-09-19 00:21:07', 'text': 'RT @Reuters: Speaker of the House Nancy Pelosi thanks Hong Kong activist leaders, including Joshua Wong,\\\\xa0for ^challenging the conscience^ o\\\\u2026 ', 'geo_lat': None, 'geo_long': None, 'place_type': None, 'place_name': None, 'lang': 'en', 'source': '<a href=\"http://twitter.com/download/android\" rel=\"nofollow\">Twitter for Android</a> ', 'retweet_count': 19, 'favorite_count': 0, 'retweet_status_id': 1174475691691319299, 'reply_to_status_id': None, 'reply_to_user_id': None, 'reply_to_screen_name': None}\n",
      "{'tweet_id': 1174478446325420032, 'user_id': 1014827282555273219, 'screen_name': 'rika01kari', 'created_at': '2019-09-19 00:20:57', 'text': 'RT @SenRubioPress: Senator Rubio during #HongKong @CECCgov hearing: \"China^s leaders must either respect Hong Kong\\\\u2019s autonomy or know that\\\\u2026 ', 'geo_lat': None, 'geo_long': None, 'place_type': None, 'place_name': None, 'lang': 'en', 'source': '<a href=\"http://twitter.com/download/iphone\" rel=\"nofollow\">Twitter for iPhone</a> ', 'retweet_count': 2454, 'favorite_count': 0, 'retweet_status_id': 1174061008727552001, 'reply_to_status_id': None, 'reply_to_user_id': None, 'reply_to_screen_name': None}\n",
      "{'tweet_id': 1174478427866271745, 'user_id': 1100378049894277121, 'screen_name': 'Star20861', 'created_at': '2019-09-19 00:20:52', 'text': 'RT @pinkykiki222: \\\\u6211\\\\u8981\\\\u570d\\\\u7210\\\\uff0c\\\\u8acb\\\\u5e6b\\\\u5e6b\\\\u6211\\\\U0001f64f\\\\U0001f3fe\\\\U0001f64f\\\\U0001f3fe\\\\U0001f64f\\\\U0001f3fe\\\\U0001f64f\\\\U0001f3fe\\\\U0001f64f\\\\U0001f3fe\\\\n\\\\n#Hon ', 'geo_lat': None, 'geo_long': None, 'place_type': None, 'place_name': None, 'lang': 'zh', 'source': '<a href=\"http://twitter.com/download/android\" rel=\"nofollow\">Twitter for Android</a> ', 'retweet_count': 19, 'favorite_count': 0, 'retweet_status_id': 1174384361237622789, 'reply_to_status_id': None, 'reply_to_user_id': None, 'reply_to_screen_name': None}\n"
     ]
    }
   ],
   "source": [
    "for tweets in list(islice((json.loads(json.dumps(users))), 10)): \n",
    "    print(tweets)"
   ]
  },
  {
   "cell_type": "code",
   "execution_count": null,
   "metadata": {},
   "outputs": [],
   "source": []
  },
  {
   "cell_type": "code",
   "execution_count": 71,
   "metadata": {},
   "outputs": [],
   "source": [
    "def get_data(users, n_max, party = None):\n",
    "    count = 0\n",
    "    n_tweets = 0\n",
    "    n = 5000  # Or whatever chunk size you want\n",
    "    pro, anti = [], []\n",
    "\n",
    "    for tweets in iter(lambda: list(islice((json.loads(json.dumps(users))), n)), []):        \n",
    "        users = seperate(tweets)\n",
    "        pro_, anti_ = pro_anti(users) #this gives us a list of pro and anti tweets\n",
    "        pro.extend(pro_)\n",
    "        anti.extend(anti_)\n",
    "        count += 1\n",
    "        #save every 10 chunks of data (i.e. 50000 tweets)\n",
    "        if count % 1 == 0:\n",
    "            pro = [[i, 0] for i in pro_]\n",
    "            anti = [[i, 1] for i in anti_]\n",
    "            if party == 'pro':\n",
    "                all_ = pro\n",
    "            elif party == 'anti':\n",
    "                all_ = anti\n",
    "            else:\n",
    "                all_ = pro + anti\n",
    "            df = pd.DataFrame(all_, columns = ['tweet', 'pro/anti'])\n",
    "            n_tweets += df.shape[0]\n",
    "            print(n_tweets)\n",
    "            #print(df.head(10))\n",
    "            with open('Data/labeled_tweets.csv', 'a',  encoding = 'utf-8') as f_data:\n",
    "                df.to_csv(f_data, header=True)\n",
    "        if n_tweets > n_max:  \n",
    "            print('stop: maximum number of tweets reached')\n",
    "            break "
   ]
  },
  {
   "cell_type": "code",
   "execution_count": 72,
   "metadata": {
    "scrolled": true
   },
   "outputs": [
    {
     "name": "stderr",
     "output_type": "stream",
     "text": [
      "  0% |                                                                        |\r"
     ]
    },
    {
     "ename": "TypeError",
     "evalue": "string indices must be integers",
     "output_type": "error",
     "traceback": [
      "\u001b[1;31m---------------------------------------------------------------------------\u001b[0m",
      "\u001b[1;31mTypeError\u001b[0m                                 Traceback (most recent call last)",
      "\u001b[1;32m<ipython-input-72-3d749616fca9>\u001b[0m in \u001b[0;36m<module>\u001b[1;34m\u001b[0m\n\u001b[0;32m      1\u001b[0m \u001b[0mn_max\u001b[0m \u001b[1;33m=\u001b[0m \u001b[1;36m1000\u001b[0m \u001b[1;31m#max_number of tweets\u001b[0m\u001b[1;33m\u001b[0m\u001b[1;33m\u001b[0m\u001b[0m\n\u001b[1;32m----> 2\u001b[1;33m \u001b[0mget_data\u001b[0m\u001b[1;33m(\u001b[0m\u001b[0musers\u001b[0m\u001b[1;33m,\u001b[0m \u001b[0mn_max\u001b[0m\u001b[1;33m)\u001b[0m\u001b[1;33m\u001b[0m\u001b[1;33m\u001b[0m\u001b[0m\n\u001b[0m",
      "\u001b[1;32m<ipython-input-71-98bceab8fb43>\u001b[0m in \u001b[0;36mget_data\u001b[1;34m(users, n_max, party)\u001b[0m\n\u001b[0;32m      6\u001b[0m \u001b[1;33m\u001b[0m\u001b[0m\n\u001b[0;32m      7\u001b[0m     \u001b[1;32mfor\u001b[0m \u001b[0mtweets\u001b[0m \u001b[1;32min\u001b[0m \u001b[0mlist\u001b[0m\u001b[1;33m(\u001b[0m\u001b[0mislice\u001b[0m\u001b[1;33m(\u001b[0m\u001b[1;33m(\u001b[0m\u001b[0mjson\u001b[0m\u001b[1;33m.\u001b[0m\u001b[0mloads\u001b[0m\u001b[1;33m(\u001b[0m\u001b[0mjson\u001b[0m\u001b[1;33m.\u001b[0m\u001b[0mdumps\u001b[0m\u001b[1;33m(\u001b[0m\u001b[0musers\u001b[0m\u001b[1;33m)\u001b[0m\u001b[1;33m)\u001b[0m\u001b[1;33m)\u001b[0m\u001b[1;33m,\u001b[0m \u001b[0mn\u001b[0m\u001b[1;33m)\u001b[0m\u001b[1;33m)\u001b[0m\u001b[1;33m:\u001b[0m\u001b[1;33m\u001b[0m\u001b[1;33m\u001b[0m\u001b[0m\n\u001b[1;32m----> 8\u001b[1;33m         \u001b[0musers\u001b[0m \u001b[1;33m=\u001b[0m \u001b[0mseperate\u001b[0m\u001b[1;33m(\u001b[0m\u001b[0mtweets\u001b[0m\u001b[1;33m)\u001b[0m\u001b[1;33m\u001b[0m\u001b[1;33m\u001b[0m\u001b[0m\n\u001b[0m\u001b[0;32m      9\u001b[0m         \u001b[0mpro_\u001b[0m\u001b[1;33m,\u001b[0m \u001b[0manti_\u001b[0m \u001b[1;33m=\u001b[0m \u001b[0mpro_anti\u001b[0m\u001b[1;33m(\u001b[0m\u001b[0musers\u001b[0m\u001b[1;33m)\u001b[0m \u001b[1;31m#this gives us a list of pro and anti tweets\u001b[0m\u001b[1;33m\u001b[0m\u001b[1;33m\u001b[0m\u001b[0m\n\u001b[0;32m     10\u001b[0m         \u001b[0mpro\u001b[0m\u001b[1;33m.\u001b[0m\u001b[0mextend\u001b[0m\u001b[1;33m(\u001b[0m\u001b[0mpro_\u001b[0m\u001b[1;33m)\u001b[0m\u001b[1;33m\u001b[0m\u001b[1;33m\u001b[0m\u001b[0m\n",
      "\u001b[1;32m<ipython-input-68-dd0dcafbc890>\u001b[0m in \u001b[0;36mseperate\u001b[1;34m(tweets)\u001b[0m\n\u001b[0;32m      9\u001b[0m     \u001b[0mbar\u001b[0m \u001b[1;33m=\u001b[0m \u001b[0mprogressbar\u001b[0m\u001b[1;33m.\u001b[0m\u001b[0mProgressBar\u001b[0m\u001b[1;33m(\u001b[0m\u001b[1;33m)\u001b[0m\u001b[1;33m\u001b[0m\u001b[1;33m\u001b[0m\u001b[0m\n\u001b[0;32m     10\u001b[0m     \u001b[1;32mfor\u001b[0m \u001b[0mtwt\u001b[0m \u001b[1;32min\u001b[0m \u001b[0mbar\u001b[0m\u001b[1;33m(\u001b[0m\u001b[0mtweets\u001b[0m\u001b[1;33m)\u001b[0m\u001b[1;33m:\u001b[0m\u001b[1;33m\u001b[0m\u001b[1;33m\u001b[0m\u001b[0m\n\u001b[1;32m---> 11\u001b[1;33m         \u001b[0mid_\u001b[0m \u001b[1;33m=\u001b[0m \u001b[0mtwt\u001b[0m\u001b[1;33m[\u001b[0m\u001b[1;34m'user_id'\u001b[0m\u001b[1;33m]\u001b[0m\u001b[1;33m\u001b[0m\u001b[1;33m\u001b[0m\u001b[0m\n\u001b[0m\u001b[0;32m     12\u001b[0m         \u001b[1;32mtry\u001b[0m\u001b[1;33m:\u001b[0m\u001b[1;33m\u001b[0m\u001b[1;33m\u001b[0m\u001b[0m\n\u001b[0;32m     13\u001b[0m             \u001b[0musers\u001b[0m\u001b[1;33m[\u001b[0m\u001b[0mid_\u001b[0m\u001b[1;33m]\u001b[0m\u001b[1;33m[\u001b[0m\u001b[1;34m'tweets'\u001b[0m\u001b[1;33m]\u001b[0m\u001b[1;33m.\u001b[0m\u001b[0mappend\u001b[0m\u001b[1;33m(\u001b[0m\u001b[0mtwt\u001b[0m\u001b[1;33m[\u001b[0m\u001b[1;34m'text'\u001b[0m\u001b[1;33m]\u001b[0m\u001b[1;33m)\u001b[0m\u001b[1;33m\u001b[0m\u001b[1;33m\u001b[0m\u001b[0m\n",
      "\u001b[1;31mTypeError\u001b[0m: string indices must be integers"
     ]
    }
   ],
   "source": [
    "n_max = 1000 #max_number of tweets\n",
    "get_data(users, n_max)"
   ]
  },
  {
   "cell_type": "code",
   "execution_count": null,
   "metadata": {},
   "outputs": [],
   "source": []
  }
 ],
 "metadata": {
  "kernelspec": {
   "display_name": "Python 3",
   "language": "python",
   "name": "python3"
  },
  "language_info": {
   "codemirror_mode": {
    "name": "ipython",
    "version": 3
   },
   "file_extension": ".py",
   "mimetype": "text/x-python",
   "name": "python",
   "nbconvert_exporter": "python",
   "pygments_lexer": "ipython3",
   "version": "3.7.3"
  }
 },
 "nbformat": 4,
 "nbformat_minor": 2
}
