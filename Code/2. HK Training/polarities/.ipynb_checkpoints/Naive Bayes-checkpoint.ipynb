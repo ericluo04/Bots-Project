{
 "cells": [
  {
   "cell_type": "code",
   "execution_count": 1,
   "metadata": {},
   "outputs": [],
   "source": [
    "import pandas as pd\n",
    "import sklearn\n",
    "import numpy as np\n",
    "import nltk\n",
    "from nltk.stem import PorterStemmer\n",
    "from nltk.corpus import stopwords\n",
    "from sklearn.model_selection import train_test_split\n",
    "from sklearn.feature_extraction.text import CountVectorizer\n",
    "from sklearn.naive_bayes import MultinomialNB\n",
    "from sklearn.metrics import accuracy_score, precision_score, recall_score"
   ]
  },
  {
   "cell_type": "code",
   "execution_count": 2,
   "metadata": {},
   "outputs": [],
   "source": [
    "path = \"C:/Users/ericluo04/Documents/GitHub/Bots-Project/Code/\""
   ]
  },
  {
   "cell_type": "markdown",
   "metadata": {},
   "source": [
    "### Data Cleaning"
   ]
  },
  {
   "cell_type": "code",
   "execution_count": 3,
   "metadata": {},
   "outputs": [],
   "source": [
    "df = pd.read_csv(path + \"2. HK Training/training/Data/modeling_1.csv\")\n",
    "df['tweet'] = df['tweet'].apply(nltk.word_tokenize)\n",
    "stemmer = PorterStemmer()\n",
    "df['tweet'] = df['tweet'].apply(lambda x: [stemmer.stem(y) for y in x])\n",
    "df['tweet'] = df['tweet'].apply(lambda x: ' '.join(x))"
   ]
  },
  {
   "cell_type": "code",
   "execution_count": 4,
   "metadata": {
    "scrolled": true
   },
   "outputs": [],
   "source": [
    "X_train, X_test, y_train, y_test = train_test_split(df['tweet'], df['label'], train_size=.8)\n",
    "\n",
    "stops = stopwords.words('english')\n",
    "cv = CountVectorizer(strip_accents='unicode', stop_words=frozenset(stops + ['hong', 'kong', 'hongkong', 'thi', 'rt', 'thank', 'hk', 'hongkongprotest', 'hkprotest', 'u2026', 'uff0c', 'http', 'co']), min_df=2)\n",
    "X_train_cv = cv.fit_transform(X_train)\n",
    "X_test_cv = cv.transform(X_test)"
   ]
  },
  {
   "cell_type": "markdown",
   "metadata": {},
   "source": [
    "### Train Multinomial Naive Bayes Model"
   ]
  },
  {
   "cell_type": "code",
   "execution_count": 5,
   "metadata": {},
   "outputs": [
    {
     "name": "stdout",
     "output_type": "stream",
     "text": [
      "Accuracy score:  0.8828736105393166\n",
      "Precision score:  0.8809826344769166\n",
      "Recall score:  0.8783783783783784\n"
     ]
    }
   ],
   "source": [
    "naive_bayes = MultinomialNB()\n",
    "naive_bayes.fit(X_train_cv, y_train)\n",
    "predictions = naive_bayes.predict(X_test_cv)\n",
    "\n",
    "print('Accuracy score: ', accuracy_score(y_test, predictions))\n",
    "print('Precision score: ', precision_score(y_test, predictions))\n",
    "print('Recall score: ', recall_score(y_test, predictions))"
   ]
  },
  {
   "cell_type": "markdown",
   "metadata": {},
   "source": [
    "### Predictive Features"
   ]
  },
  {
   "cell_type": "code",
   "execution_count": 6,
   "metadata": {
    "scrolled": true
   },
   "outputs": [
    {
     "name": "stdout",
     "output_type": "stream",
     "text": [
      "These are the 10 most predictive features for a pro-Hong Kong tweet: ['support' 'standwithhk' 'freedom' 'china' 'nba' 'polic' 'fightforfreedom'\n",
      " 'freehongkong' 'chinazi' 'standwithhongkong']\n",
      "These are the 10 most predictive features for a pro-China tweet: ['u5f92' 'china' 'u66b4' 'rioter' 'hkrioter' 'u9999' 'riot' 'u6e2f'\n",
      " 'protest' 'polic']\n"
     ]
    }
   ],
   "source": [
    "neg_class_prob_sorted = naive_bayes.feature_log_prob_[0, :].argsort()\n",
    "pos_class_prob_sorted = naive_bayes.feature_log_prob_[1, :].argsort()\n",
    "\n",
    "print('These are the 10 most predictive features for a pro-Hong Kong tweet:', np.take(cv.get_feature_names(), neg_class_prob_sorted[-10:]))\n",
    "print('These are the 10 most predictive features for a pro-China tweet:', np.take(cv.get_feature_names(), pos_class_prob_sorted[-10:]))"
   ]
  },
  {
   "cell_type": "code",
   "execution_count": 10,
   "metadata": {},
   "outputs": [
    {
     "data": {
      "text/plain": [
       "array([[9.99999995e-01, 5.17663849e-09],\n",
       "       [8.11475382e-01, 1.88524618e-01],\n",
       "       [9.99937675e-01, 6.23250365e-05],\n",
       "       ...,\n",
       "       [1.27444010e-07, 9.99999873e-01],\n",
       "       [3.53348010e-14, 1.00000000e+00],\n",
       "       [2.05177027e-12, 1.00000000e+00]])"
      ]
     },
     "execution_count": 10,
     "metadata": {},
     "output_type": "execute_result"
    }
   ],
   "source": [
    "naive_bayes.predict_proba(cv.transform(df['tweet']))"
   ]
  },
  {
   "cell_type": "markdown",
   "metadata": {},
   "source": [
    "### Naive Bayes into Master File"
   ]
  },
  {
   "cell_type": "code",
   "execution_count": 48,
   "metadata": {},
   "outputs": [],
   "source": [
    "master = pd.read_csv(path + \"2. HK Training/polarities/master_new.csv\")"
   ]
  },
  {
   "cell_type": "code",
   "execution_count": 49,
   "metadata": {},
   "outputs": [],
   "source": [
    "master.rename(columns = {'polarity':'CNNpolarity'}, \n",
    "              inplace = True) "
   ]
  },
  {
   "cell_type": "code",
   "execution_count": 53,
   "metadata": {
    "scrolled": true
   },
   "outputs": [],
   "source": [
    "master['NBpolarity'] = naive_bayes.predict_proba(cv.transform(master['tweet']))[:,1]"
   ]
  },
  {
   "cell_type": "code",
   "execution_count": null,
   "metadata": {},
   "outputs": [],
   "source": []
  },
  {
   "cell_type": "code",
   "execution_count": 63,
   "metadata": {},
   "outputs": [
    {
     "data": {
      "text/plain": [
       "' 香港暴乱就是你們這種人搞亂的，自己就是個蠢'"
      ]
     },
     "execution_count": 63,
     "metadata": {},
     "output_type": "execute_result"
    }
   ],
   "source": [
    "# decode ASCII from JSON \n",
    "chinese = r\" \\u9999\\u6e2f\\u66b4\\u4e71\\u5c31\\u662f\\u4f60\\u5011\\u9019\\u7a2e\\u4eba\\u641e\\u4e82\\u7684\\uff0c\\u81ea\\u5df1\\u5c31\\u662f\\u500b\\u8822\"\n",
    "chinese.encode().decode('unicode-escape')"
   ]
  },
  {
   "cell_type": "markdown",
   "metadata": {},
   "source": [
    "#### Pro-HK"
   ]
  },
  {
   "cell_type": "code",
   "execution_count": 57,
   "metadata": {
    "scrolled": true
   },
   "outputs": [
    {
     "data": {
      "text/html": [
       "<div>\n",
       "<style scoped>\n",
       "    .dataframe tbody tr th:only-of-type {\n",
       "        vertical-align: middle;\n",
       "    }\n",
       "\n",
       "    .dataframe tbody tr th {\n",
       "        vertical-align: top;\n",
       "    }\n",
       "\n",
       "    .dataframe thead th {\n",
       "        text-align: right;\n",
       "    }\n",
       "</style>\n",
       "<table border=\"1\" class=\"dataframe\">\n",
       "  <thead>\n",
       "    <tr style=\"text-align: right;\">\n",
       "      <th></th>\n",
       "      <th>tweet</th>\n",
       "      <th>CNNpolarity</th>\n",
       "      <th>NBpolarity</th>\n",
       "    </tr>\n",
       "  </thead>\n",
       "  <tbody>\n",
       "    <tr>\n",
       "      <td>68281</td>\n",
       "      <td>Than you for your support and share the Real to the world \\U0001f30e.\\n\\nAdd oil\\nFighting!!\\nPound of you all\\u2764\\nWe are\\u2026 https://t.co/zKKnAomdKE</td>\n",
       "      <td>0.998296</td>\n",
       "      <td>6.386035e-03</td>\n",
       "    </tr>\n",
       "    <tr>\n",
       "      <td>355455</td>\n",
       "      <td>Why enterprises kneel down to #chinazi ? Is this restriction necessary? \\U0001f1f9\\U0001f1fc \\U0001f1f9\\U0001f1fc \\U0001f1f9\\U0001f1fc \\U0001f1f9\\U0001f1fc \\U0001f1f9\\U0001f1fc \\n\\</td>\n",
       "      <td>0.000078</td>\n",
       "      <td>4.572441e-16</td>\n",
       "    </tr>\n",
       "    <tr>\n",
       "      <td>272175</td>\n",
       "      <td>Thank you USA #standwithhongkong #FreedomOfSpeech #HongKong #AntiELAB #antitotalitarianism  https://t.co/qbn7ZNQhiO</td>\n",
       "      <td>0.000002</td>\n",
       "      <td>1.072024e-10</td>\n",
       "    </tr>\n",
       "    <tr>\n",
       "      <td>316859</td>\n",
       "      <td>@SenRickScott @AmericaNewsroom Thank you for your strongest commitment to #StandWithHongKong. Please help us from h\\u2026 https://t.co/i8N5xmQT6M</td>\n",
       "      <td>0.000025</td>\n",
       "      <td>1.809178e-06</td>\n",
       "    </tr>\n",
       "    <tr>\n",
       "      <td>205359</td>\n",
       "      <td>What\\u2019s happening in Canada? \\nCredit to #lihkg \\n#chinazi #Canada https://t.co/WW8WogpkdS</td>\n",
       "      <td>0.000925</td>\n",
       "      <td>2.171729e-06</td>\n",
       "    </tr>\n",
       "    <tr>\n",
       "      <td>296066</td>\n",
       "      <td>@GovMikeHuckabee Stand with NBA #StandWithHongKong</td>\n",
       "      <td>0.000018</td>\n",
       "      <td>8.740954e-06</td>\n",
       "    </tr>\n",
       "    <tr>\n",
       "      <td>177113</td>\n",
       "      <td>@NBA Let\\u2019s talk about Morey before the game started.\\n #StandWithHongKong #FightForFreedom</td>\n",
       "      <td>0.000007</td>\n",
       "      <td>2.601366e-08</td>\n",
       "    </tr>\n",
       "    <tr>\n",
       "      <td>349307</td>\n",
       "      <td>@Blizzard_Ent BOOOO!!! Blizzard support Chinazi^s. \\n\\nhttps://t.co/jiHAkRE9VU</td>\n",
       "      <td>0.001321</td>\n",
       "      <td>1.435742e-05</td>\n",
       "    </tr>\n",
       "    <tr>\n",
       "      <td>304557</td>\n",
       "      <td>The Chinese people support 911, support terrorism. They clearly do not understand what freedom really means.\\u2026 https://t.co/0lRuFxu12o</td>\n",
       "      <td>0.004273</td>\n",
       "      <td>1.377597e-03</td>\n",
       "    </tr>\n",
       "    <tr>\n",
       "      <td>328773</td>\n",
       "      <td>#FreeHongKong #FreedomOfSpeech https://t.co/KZJLcQtpIR</td>\n",
       "      <td>0.000059</td>\n",
       "      <td>2.547101e-06</td>\n",
       "    </tr>\n",
       "  </tbody>\n",
       "</table>\n",
       "</div>"
      ],
      "text/plain": [
       "                                                                                                                                                                                        tweet  CNNpolarity    NBpolarity\n",
       "68281                             Than you for your support and share the Real to the world \\U0001f30e.\\n\\nAdd oil\\nFighting!!\\nPound of you all\\u2764\\nWe are\\u2026 https://t.co/zKKnAomdKE      0.998296  6.386035e-03\n",
       "355455  Why enterprises kneel down to #chinazi ? Is this restriction necessary? \\U0001f1f9\\U0001f1fc \\U0001f1f9\\U0001f1fc \\U0001f1f9\\U0001f1fc \\U0001f1f9\\U0001f1fc \\U0001f1f9\\U0001f1fc \\n\\      0.000078  4.572441e-16\n",
       "272175                                                                   Thank you USA #standwithhongkong #FreedomOfSpeech #HongKong #AntiELAB #antitotalitarianism  https://t.co/qbn7ZNQhiO      0.000002  1.072024e-10\n",
       "316859                                     @SenRickScott @AmericaNewsroom Thank you for your strongest commitment to #StandWithHongKong. Please help us from h\\u2026 https://t.co/i8N5xmQT6M      0.000025  1.809178e-06\n",
       "205359                                                                                        What\\u2019s happening in Canada? \\nCredit to #lihkg \\n#chinazi #Canada https://t.co/WW8WogpkdS      0.000925  2.171729e-06\n",
       "296066                                                                                                                                    @GovMikeHuckabee Stand with NBA #StandWithHongKong      0.000018  8.740954e-06\n",
       "177113                                                                                       @NBA Let\\u2019s talk about Morey before the game started.\\n #StandWithHongKong #FightForFreedom      0.000007  2.601366e-08\n",
       "349307                                                                                                        @Blizzard_Ent BOOOO!!! Blizzard support Chinazi^s. \\n\\nhttps://t.co/jiHAkRE9VU      0.001321  1.435742e-05\n",
       "304557                                            The Chinese people support 911, support terrorism. They clearly do not understand what freedom really means.\\u2026 https://t.co/0lRuFxu12o      0.004273  1.377597e-03\n",
       "328773                                                                                                                                #FreeHongKong #FreedomOfSpeech https://t.co/KZJLcQtpIR      0.000059  2.547101e-06"
      ]
     },
     "execution_count": 57,
     "metadata": {},
     "output_type": "execute_result"
    }
   ],
   "source": [
    "pd.options.display.max_colwidth = 200\n",
    "master[master['NBpolarity'] <= .01].sample(10)[['tweet', 'CNNpolarity', 'NBpolarity']]"
   ]
  },
  {
   "cell_type": "markdown",
   "metadata": {},
   "source": [
    "#### Pro-China"
   ]
  },
  {
   "cell_type": "code",
   "execution_count": 62,
   "metadata": {},
   "outputs": [
    {
     "data": {
      "text/html": [
       "<div>\n",
       "<style scoped>\n",
       "    .dataframe tbody tr th:only-of-type {\n",
       "        vertical-align: middle;\n",
       "    }\n",
       "\n",
       "    .dataframe tbody tr th {\n",
       "        vertical-align: top;\n",
       "    }\n",
       "\n",
       "    .dataframe thead th {\n",
       "        text-align: right;\n",
       "    }\n",
       "</style>\n",
       "<table border=\"1\" class=\"dataframe\">\n",
       "  <thead>\n",
       "    <tr style=\"text-align: right;\">\n",
       "      <th></th>\n",
       "      <th>tweet</th>\n",
       "      <th>CNNpolarity</th>\n",
       "      <th>NBpolarity</th>\n",
       "    </tr>\n",
       "  </thead>\n",
       "  <tbody>\n",
       "    <tr>\n",
       "      <td>243778</td>\n",
       "      <td>@zifeiyu_1003 @PXL2s6pR3sxpetC \\u5982\\u679c\\u662f\\u771f\\u8bb0\\u8005\\uff0c \\u8bf7\\u4ed6\\u4eec\\u79c9\\u6301\\u5ba2\\u89c2\\u516c\\u6b63\\u7684\\u8bb0\\u5f55\\u539f\\u5219\\uff0c\\u5411\\u4e16\\u75</td>\n",
       "      <td>0.953211</td>\n",
       "      <td>1.000000</td>\n",
       "    </tr>\n",
       "    <tr>\n",
       "      <td>168804</td>\n",
       "      <td>\\u90ed\\u5a92\\u4f53 https://t.co/QUA6wrtYHy https://t.co/rPFmYzHbQn\\n10\\u67081\\u65e5\\uff0c\\u9999\\u6e2f\\u9ed1\\u8b66\\u5728\\u5168\\u4e16\\u754c\\u7684\\u5a92\\u4f53\\u955c\\u5934\\u524d\\u5f00\\</td>\n",
       "      <td>0.689242</td>\n",
       "      <td>1.000000</td>\n",
       "    </tr>\n",
       "    <tr>\n",
       "      <td>281668</td>\n",
       "      <td>\\u542c\\u8bf4\\u53d1\\u63a8\\u6587\\u80fd\\u5feb\\u70b9\\u5347\\u7ea7\\u7684\\uff0c\\u521a\\u521a\\u5f00\\u59cb\\u7528\\u63a8\\u7279\\uff0c\\u770b\\u5230\\u8fd9\\u4e48\\u591a\\u624b\\u8db3\\u5173\\u6ce8\\u91cf</td>\n",
       "      <td>0.689242</td>\n",
       "      <td>1.000000</td>\n",
       "    </tr>\n",
       "    <tr>\n",
       "      <td>134737</td>\n",
       "      <td>RT @shouseikan: \\u6628\\u65e5\\u306f\\u4eac\\u90fd\\u306eNHK\\u6587\\u5316\\u30bb\\u30f3\\u30bf\\u30fc\\u3067\\u8b1b\\u5ea7\\u3002\\u4eca\\u56de\\u3001\\u5927\\u5909\\u5370\\u8c61\\u6df1\\u304b\\u3063\\u305</td>\n",
       "      <td>0.869428</td>\n",
       "      <td>0.999761</td>\n",
       "    </tr>\n",
       "    <tr>\n",
       "      <td>131822</td>\n",
       "      <td>@amiactuallyok @hoccgoomusic @lihkg_forum \\u5514\\u901a\\u5514\\u7cfb\\uff1f\\u91cc\\u4e00\\u67aa\\u5f00\\u5f97\\u592a\\u8fdf\\u5566\\uff0c\\u4e0d\\u7136\\u7684\\u8bdd\\u4f60\\u73ed\\u6050\\u6016\\u5206</td>\n",
       "      <td>0.902536</td>\n",
       "      <td>0.999999</td>\n",
       "    </tr>\n",
       "    <tr>\n",
       "      <td>392748</td>\n",
       "      <td>@octopus663 \\u6bd2\\u6587\\u5ba3\\uff01\\n\\u66b4\\u5f92\\u884c\\u4e3a\\uff0c\\u5929\\u7406\\u96be\\u5bb9\\u3002\\xa0\\xa0\\xa0\\xa0\\xa0\\xa0\\xa0\\xa0\\xa0\\xa0\\xa0\\xa0\\xa0\\xa0\\xa0\\xa0\\xa0\\xa0\\xa0\\xa0\\x</td>\n",
       "      <td>0.689242</td>\n",
       "      <td>1.000000</td>\n",
       "    </tr>\n",
       "    <tr>\n",
       "      <td>379362</td>\n",
       "      <td>@LamCK15 @ZhouHua94189188 @bbcchinese \\u9999\\u6e2f\\u5bf9\\u4e2d\\u56fd\\u5d1b\\u8d77\\u6709\\u5de8\\u5927\\u7684\\u8d21\\u732e\\uff0c\\u90fd\\u627f\\u8ba4\\u3002\\u4f46\\u4e0d\\u53ea\\u662f\\u9999\\u6e</td>\n",
       "      <td>0.985986</td>\n",
       "      <td>0.999990</td>\n",
       "    </tr>\n",
       "    <tr>\n",
       "      <td>237323</td>\n",
       "      <td>@shhcaa \\u9999\\u6e2f\\u7684\\u66b4\\u5f92\\u4eec\\u6253\\u7740\\u6c11\\u4e3b\\u81ea\\u7531\\u7684\\u53e3\\u53f7\\uff0c\\u5e72\\u7740\\u732a\\u72d7\\u4e0d\\u5982\\u7684\\u52fe\\u5f53\\uff0c\\u4e0e\\u75af\\u5b</td>\n",
       "      <td>0.911020</td>\n",
       "      <td>1.000000</td>\n",
       "    </tr>\n",
       "    <tr>\n",
       "      <td>244777</td>\n",
       "      <td>@LifetimeUSCN \\u9999\\u6e2f\\u66b4\\u4e71\\u5c31\\u662f\\u4f60\\u5011\\u9019\\u7a2e\\u4eba\\u641e\\u4e82\\u7684\\uff0c\\u81ea\\u5df1\\u5c31\\u662f\\u500b\\u8822\\u6750</td>\n",
       "      <td>0.516680</td>\n",
       "      <td>1.000000</td>\n",
       "    </tr>\n",
       "    <tr>\n",
       "      <td>371970</td>\n",
       "      <td>@MarineMcgregor5 \\u66b4\\u529b\\u8fd8\\u662f\\u4e0d\\u65ad\\u5347\\u7ea7\\uff0c\\u66b4\\u5f92\\u4eec\\u5df2\\u7ecf\\u4e27\\u5fc3\\u75c5\\u72c2\\uff0c\\u5373\\u4f7f\\u662f\\u9999\\u6e2f\\u5927\\u591a\\u6570\\</td>\n",
       "      <td>0.689242</td>\n",
       "      <td>1.000000</td>\n",
       "    </tr>\n",
       "  </tbody>\n",
       "</table>\n",
       "</div>"
      ],
      "text/plain": [
       "                                                                                                                                                                                        tweet  CNNpolarity  NBpolarity\n",
       "243778  @zifeiyu_1003 @PXL2s6pR3sxpetC \\u5982\\u679c\\u662f\\u771f\\u8bb0\\u8005\\uff0c \\u8bf7\\u4ed6\\u4eec\\u79c9\\u6301\\u5ba2\\u89c2\\u516c\\u6b63\\u7684\\u8bb0\\u5f55\\u539f\\u5219\\uff0c\\u5411\\u4e16\\u75      0.953211    1.000000\n",
       "168804  \\u90ed\\u5a92\\u4f53 https://t.co/QUA6wrtYHy https://t.co/rPFmYzHbQn\\n10\\u67081\\u65e5\\uff0c\\u9999\\u6e2f\\u9ed1\\u8b66\\u5728\\u5168\\u4e16\\u754c\\u7684\\u5a92\\u4f53\\u955c\\u5934\\u524d\\u5f00\\      0.689242    1.000000\n",
       "281668  \\u542c\\u8bf4\\u53d1\\u63a8\\u6587\\u80fd\\u5feb\\u70b9\\u5347\\u7ea7\\u7684\\uff0c\\u521a\\u521a\\u5f00\\u59cb\\u7528\\u63a8\\u7279\\uff0c\\u770b\\u5230\\u8fd9\\u4e48\\u591a\\u624b\\u8db3\\u5173\\u6ce8\\u91cf      0.689242    1.000000\n",
       "134737  RT @shouseikan: \\u6628\\u65e5\\u306f\\u4eac\\u90fd\\u306eNHK\\u6587\\u5316\\u30bb\\u30f3\\u30bf\\u30fc\\u3067\\u8b1b\\u5ea7\\u3002\\u4eca\\u56de\\u3001\\u5927\\u5909\\u5370\\u8c61\\u6df1\\u304b\\u3063\\u305      0.869428    0.999761\n",
       "131822  @amiactuallyok @hoccgoomusic @lihkg_forum \\u5514\\u901a\\u5514\\u7cfb\\uff1f\\u91cc\\u4e00\\u67aa\\u5f00\\u5f97\\u592a\\u8fdf\\u5566\\uff0c\\u4e0d\\u7136\\u7684\\u8bdd\\u4f60\\u73ed\\u6050\\u6016\\u5206      0.902536    0.999999\n",
       "392748  @octopus663 \\u6bd2\\u6587\\u5ba3\\uff01\\n\\u66b4\\u5f92\\u884c\\u4e3a\\uff0c\\u5929\\u7406\\u96be\\u5bb9\\u3002\\xa0\\xa0\\xa0\\xa0\\xa0\\xa0\\xa0\\xa0\\xa0\\xa0\\xa0\\xa0\\xa0\\xa0\\xa0\\xa0\\xa0\\xa0\\xa0\\xa0\\x      0.689242    1.000000\n",
       "379362  @LamCK15 @ZhouHua94189188 @bbcchinese \\u9999\\u6e2f\\u5bf9\\u4e2d\\u56fd\\u5d1b\\u8d77\\u6709\\u5de8\\u5927\\u7684\\u8d21\\u732e\\uff0c\\u90fd\\u627f\\u8ba4\\u3002\\u4f46\\u4e0d\\u53ea\\u662f\\u9999\\u6e      0.985986    0.999990\n",
       "237323  @shhcaa \\u9999\\u6e2f\\u7684\\u66b4\\u5f92\\u4eec\\u6253\\u7740\\u6c11\\u4e3b\\u81ea\\u7531\\u7684\\u53e3\\u53f7\\uff0c\\u5e72\\u7740\\u732a\\u72d7\\u4e0d\\u5982\\u7684\\u52fe\\u5f53\\uff0c\\u4e0e\\u75af\\u5b      0.911020    1.000000\n",
       "244777                                    @LifetimeUSCN \\u9999\\u6e2f\\u66b4\\u4e71\\u5c31\\u662f\\u4f60\\u5011\\u9019\\u7a2e\\u4eba\\u641e\\u4e82\\u7684\\uff0c\\u81ea\\u5df1\\u5c31\\u662f\\u500b\\u8822\\u6750      0.516680    1.000000\n",
       "371970  @MarineMcgregor5 \\u66b4\\u529b\\u8fd8\\u662f\\u4e0d\\u65ad\\u5347\\u7ea7\\uff0c\\u66b4\\u5f92\\u4eec\\u5df2\\u7ecf\\u4e27\\u5fc3\\u75c5\\u72c2\\uff0c\\u5373\\u4f7f\\u662f\\u9999\\u6e2f\\u5927\\u591a\\u6570\\      0.689242    1.000000"
      ]
     },
     "execution_count": 62,
     "metadata": {},
     "output_type": "execute_result"
    }
   ],
   "source": [
    "master[master['NBpolarity'] >= .99].sample(10)[['tweet', 'CNNpolarity', 'NBpolarity']]"
   ]
  },
  {
   "cell_type": "markdown",
   "metadata": {},
   "source": [
    "#### In Between"
   ]
  },
  {
   "cell_type": "code",
   "execution_count": 65,
   "metadata": {
    "scrolled": true
   },
   "outputs": [
    {
     "data": {
      "text/html": [
       "<div>\n",
       "<style scoped>\n",
       "    .dataframe tbody tr th:only-of-type {\n",
       "        vertical-align: middle;\n",
       "    }\n",
       "\n",
       "    .dataframe tbody tr th {\n",
       "        vertical-align: top;\n",
       "    }\n",
       "\n",
       "    .dataframe thead th {\n",
       "        text-align: right;\n",
       "    }\n",
       "</style>\n",
       "<table border=\"1\" class=\"dataframe\">\n",
       "  <thead>\n",
       "    <tr style=\"text-align: right;\">\n",
       "      <th></th>\n",
       "      <th>tweet</th>\n",
       "      <th>CNNpolarity</th>\n",
       "      <th>NBpolarity</th>\n",
       "    </tr>\n",
       "  </thead>\n",
       "  <tbody>\n",
       "    <tr>\n",
       "      <td>95590</td>\n",
       "      <td>#HongKong\\nhttps://t.co/jW6FVtSYPN</td>\n",
       "      <td>0.689242</td>\n",
       "      <td>0.503139</td>\n",
       "    </tr>\n",
       "    <tr>\n",
       "      <td>95809</td>\n",
       "      <td>Politiet i Hongkong efter demonstrationer.</td>\n",
       "      <td>0.781670</td>\n",
       "      <td>0.503139</td>\n",
       "    </tr>\n",
       "    <tr>\n",
       "      <td>75050</td>\n",
       "      <td>RT @joshuawongcf: [For Our Home and Our Homeland - My announcement on 2019 District Council Election] \\n\\n1. Democracy starts with us standin\\u2026</td>\n",
       "      <td>0.875221</td>\n",
       "      <td>0.501380</td>\n",
       "    </tr>\n",
       "    <tr>\n",
       "      <td>77776</td>\n",
       "      <td>@TotallyAnders Hongkong?</td>\n",
       "      <td>0.968974</td>\n",
       "      <td>0.503139</td>\n",
       "    </tr>\n",
       "    <tr>\n",
       "      <td>100978</td>\n",
       "      <td>Centinaia di studenti davanti alla scuola dello studente colpito dalla polizia a #HongKong, @guardian\\u2026 https://t.co/5Cp1VxFL7G</td>\n",
       "      <td>0.779777</td>\n",
       "      <td>0.496392</td>\n",
       "    </tr>\n",
       "    <tr>\n",
       "      <td>91698</td>\n",
       "      <td>@globaltimesnews Does the Hongkong^s people knows about the terrorism?</td>\n",
       "      <td>0.953522</td>\n",
       "      <td>0.497549</td>\n",
       "    </tr>\n",
       "    <tr>\n",
       "      <td>98550</td>\n",
       "      <td>#FreeCatalanPoliticalPrisoners \\u2705131lights\\u2764in #Catalonia to say:\"It allows us to maintain the dignity that unites th\\u2026 https://t.co/VyIe6z53Ri</td>\n",
       "      <td>0.999445</td>\n",
       "      <td>0.495825</td>\n",
       "    </tr>\n",
       "    <tr>\n",
       "      <td>180379</td>\n",
       "      <td>The disguised #hkpolice threatening and pushing reporters. Why? Because freedom of press is prohibited in\\u2026 https://t.co/l849vP7LMF</td>\n",
       "      <td>0.097804</td>\n",
       "      <td>0.501659</td>\n",
       "    </tr>\n",
       "    <tr>\n",
       "      <td>99762</td>\n",
       "      <td>@JorisVDBroucke Politiek in t algemeen is een degoutante farce geworden : van links tot rechts ... \"La naus\\xe9e\" zoal\\u2026 https://t.co/Go01sN87c9</td>\n",
       "      <td>0.999299</td>\n",
       "      <td>0.501289</td>\n",
       "    </tr>\n",
       "    <tr>\n",
       "      <td>100592</td>\n",
       "      <td>\\u9999\\u6e2f\\u304b\\u3089\\u3010\\u62e1\\u6563\\u5e0c\\u671b\\u3011\\uff01\\uff01\\U0001f64f\\n\\nhttps://t.co/3ygCEvYMzj\\n\\n#HongKong #\\u9999\\u6e2f #\\u30c7\\u30e2 #\\u5409\\u91ce\\u5bb6 #\\u5143\\u</td>\n",
       "      <td>0.657302</td>\n",
       "      <td>0.504642</td>\n",
       "    </tr>\n",
       "  </tbody>\n",
       "</table>\n",
       "</div>"
      ],
      "text/plain": [
       "                                                                                                                                                                                        tweet  CNNpolarity  NBpolarity\n",
       "95590                                                                                                                                                     #HongKong\\nhttps://t.co/jW6FVtSYPN      0.689242    0.503139\n",
       "95809                                                                                                                                             Politiet i Hongkong efter demonstrationer.      0.781670    0.503139\n",
       "75050                                    RT @joshuawongcf: [For Our Home and Our Homeland - My announcement on 2019 District Council Election] \\n\\n1. Democracy starts with us standin\\u2026      0.875221    0.501380\n",
       "77776                                                                                                                                                               @TotallyAnders Hongkong?      0.968974    0.503139\n",
       "100978                                                   Centinaia di studenti davanti alla scuola dello studente colpito dalla polizia a #HongKong, @guardian\\u2026 https://t.co/5Cp1VxFL7G      0.779777    0.496392\n",
       "91698                                                                                                                 @globaltimesnews Does the Hongkong^s people knows about the terrorism?      0.953522    0.497549\n",
       "98550                            #FreeCatalanPoliticalPrisoners \\u2705131lights\\u2764in #Catalonia to say:\"It allows us to maintain the dignity that unites th\\u2026 https://t.co/VyIe6z53Ri      0.999445    0.495825\n",
       "180379                                               The disguised #hkpolice threatening and pushing reporters. Why? Because freedom of press is prohibited in\\u2026 https://t.co/l849vP7LMF      0.097804    0.501659\n",
       "99762                                   @JorisVDBroucke Politiek in t algemeen is een degoutante farce geworden : van links tot rechts ... \"La naus\\xe9e\" zoal\\u2026 https://t.co/Go01sN87c9      0.999299    0.501289\n",
       "100592  \\u9999\\u6e2f\\u304b\\u3089\\u3010\\u62e1\\u6563\\u5e0c\\u671b\\u3011\\uff01\\uff01\\U0001f64f\\n\\nhttps://t.co/3ygCEvYMzj\\n\\n#HongKong #\\u9999\\u6e2f #\\u30c7\\u30e2 #\\u5409\\u91ce\\u5bb6 #\\u5143\\u      0.657302    0.504642"
      ]
     },
     "execution_count": 65,
     "metadata": {},
     "output_type": "execute_result"
    }
   ],
   "source": [
    "master[(master['NBpolarity'] >= .495) & (master['NBpolarity'] <= .505)].sample(10)[['tweet', 'CNNpolarity', 'NBpolarity']]"
   ]
  },
  {
   "cell_type": "code",
   "execution_count": 1,
   "metadata": {},
   "outputs": [
    {
     "ename": "NameError",
     "evalue": "name 'master' is not defined",
     "output_type": "error",
     "traceback": [
      "\u001b[1;31m---------------------------------------------------------------------------\u001b[0m",
      "\u001b[1;31mNameError\u001b[0m                                 Traceback (most recent call last)",
      "\u001b[1;32m<ipython-input-1-486389ae5318>\u001b[0m in \u001b[0;36m<module>\u001b[1;34m\u001b[0m\n\u001b[1;32m----> 1\u001b[1;33m \u001b[0mmaster\u001b[0m\u001b[1;33m.\u001b[0m\u001b[0mto_csv\u001b[0m\u001b[1;33m(\u001b[0m\u001b[1;33m)\u001b[0m\u001b[1;33m\u001b[0m\u001b[1;33m\u001b[0m\u001b[0m\n\u001b[0m",
      "\u001b[1;31mNameError\u001b[0m: name 'master' is not defined"
     ]
    }
   ],
   "source": [
    "master.to_csv('master_new.csv')"
   ]
  },
  {
   "cell_type": "code",
   "execution_count": null,
   "metadata": {},
   "outputs": [],
   "source": []
  }
 ],
 "metadata": {
  "kernelspec": {
   "display_name": "Python 3",
   "language": "python",
   "name": "python3"
  },
  "language_info": {
   "codemirror_mode": {
    "name": "ipython",
    "version": 3
   },
   "file_extension": ".py",
   "mimetype": "text/x-python",
   "name": "python",
   "nbconvert_exporter": "python",
   "pygments_lexer": "ipython3",
   "version": "3.7.3"
  }
 },
 "nbformat": 4,
 "nbformat_minor": 2
}
