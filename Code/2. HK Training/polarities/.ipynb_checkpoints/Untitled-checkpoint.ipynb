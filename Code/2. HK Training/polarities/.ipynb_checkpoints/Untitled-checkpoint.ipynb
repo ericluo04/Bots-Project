{
 "cells": [
  {
   "cell_type": "code",
   "execution_count": 1,
   "metadata": {},
   "outputs": [
    {
     "name": "stderr",
     "output_type": "stream",
     "text": [
      "Using TensorFlow backend.\n",
      "C:\\Users\\ericluo04\\Anaconda3\\lib\\site-packages\\tensorflow\\python\\framework\\dtypes.py:516: FutureWarning: Passing (type, 1) or '1type' as a synonym of type is deprecated; in a future version of numpy, it will be understood as (type, (1,)) / '(1,)type'.\n",
      "  _np_qint8 = np.dtype([(\"qint8\", np.int8, 1)])\n",
      "C:\\Users\\ericluo04\\Anaconda3\\lib\\site-packages\\tensorflow\\python\\framework\\dtypes.py:517: FutureWarning: Passing (type, 1) or '1type' as a synonym of type is deprecated; in a future version of numpy, it will be understood as (type, (1,)) / '(1,)type'.\n",
      "  _np_quint8 = np.dtype([(\"quint8\", np.uint8, 1)])\n",
      "C:\\Users\\ericluo04\\Anaconda3\\lib\\site-packages\\tensorflow\\python\\framework\\dtypes.py:518: FutureWarning: Passing (type, 1) or '1type' as a synonym of type is deprecated; in a future version of numpy, it will be understood as (type, (1,)) / '(1,)type'.\n",
      "  _np_qint16 = np.dtype([(\"qint16\", np.int16, 1)])\n",
      "C:\\Users\\ericluo04\\Anaconda3\\lib\\site-packages\\tensorflow\\python\\framework\\dtypes.py:519: FutureWarning: Passing (type, 1) or '1type' as a synonym of type is deprecated; in a future version of numpy, it will be understood as (type, (1,)) / '(1,)type'.\n",
      "  _np_quint16 = np.dtype([(\"quint16\", np.uint16, 1)])\n",
      "C:\\Users\\ericluo04\\Anaconda3\\lib\\site-packages\\tensorflow\\python\\framework\\dtypes.py:520: FutureWarning: Passing (type, 1) or '1type' as a synonym of type is deprecated; in a future version of numpy, it will be understood as (type, (1,)) / '(1,)type'.\n",
      "  _np_qint32 = np.dtype([(\"qint32\", np.int32, 1)])\n",
      "C:\\Users\\ericluo04\\Anaconda3\\lib\\site-packages\\tensorflow\\python\\framework\\dtypes.py:525: FutureWarning: Passing (type, 1) or '1type' as a synonym of type is deprecated; in a future version of numpy, it will be understood as (type, (1,)) / '(1,)type'.\n",
      "  np_resource = np.dtype([(\"resource\", np.ubyte, 1)])\n",
      "C:\\Users\\ericluo04\\Anaconda3\\lib\\site-packages\\tensorboard\\compat\\tensorflow_stub\\dtypes.py:541: FutureWarning: Passing (type, 1) or '1type' as a synonym of type is deprecated; in a future version of numpy, it will be understood as (type, (1,)) / '(1,)type'.\n",
      "  _np_qint8 = np.dtype([(\"qint8\", np.int8, 1)])\n",
      "C:\\Users\\ericluo04\\Anaconda3\\lib\\site-packages\\tensorboard\\compat\\tensorflow_stub\\dtypes.py:542: FutureWarning: Passing (type, 1) or '1type' as a synonym of type is deprecated; in a future version of numpy, it will be understood as (type, (1,)) / '(1,)type'.\n",
      "  _np_quint8 = np.dtype([(\"quint8\", np.uint8, 1)])\n",
      "C:\\Users\\ericluo04\\Anaconda3\\lib\\site-packages\\tensorboard\\compat\\tensorflow_stub\\dtypes.py:543: FutureWarning: Passing (type, 1) or '1type' as a synonym of type is deprecated; in a future version of numpy, it will be understood as (type, (1,)) / '(1,)type'.\n",
      "  _np_qint16 = np.dtype([(\"qint16\", np.int16, 1)])\n",
      "C:\\Users\\ericluo04\\Anaconda3\\lib\\site-packages\\tensorboard\\compat\\tensorflow_stub\\dtypes.py:544: FutureWarning: Passing (type, 1) or '1type' as a synonym of type is deprecated; in a future version of numpy, it will be understood as (type, (1,)) / '(1,)type'.\n",
      "  _np_quint16 = np.dtype([(\"quint16\", np.uint16, 1)])\n",
      "C:\\Users\\ericluo04\\Anaconda3\\lib\\site-packages\\tensorboard\\compat\\tensorflow_stub\\dtypes.py:545: FutureWarning: Passing (type, 1) or '1type' as a synonym of type is deprecated; in a future version of numpy, it will be understood as (type, (1,)) / '(1,)type'.\n",
      "  _np_qint32 = np.dtype([(\"qint32\", np.int32, 1)])\n",
      "C:\\Users\\ericluo04\\Anaconda3\\lib\\site-packages\\tensorboard\\compat\\tensorflow_stub\\dtypes.py:550: FutureWarning: Passing (type, 1) or '1type' as a synonym of type is deprecated; in a future version of numpy, it will be understood as (type, (1,)) / '(1,)type'.\n",
      "  np_resource = np.dtype([(\"resource\", np.ubyte, 1)])\n"
     ]
    },
    {
     "name": "stdout",
     "output_type": "stream",
     "text": [
      "WARNING:tensorflow:From C:\\Users\\ericluo04\\Anaconda3\\lib\\site-packages\\keras\\backend\\tensorflow_backend.py:4070: The name tf.nn.max_pool is deprecated. Please use tf.nn.max_pool2d instead.\n",
      "\n"
     ]
    }
   ],
   "source": [
    "#!/usr/bin/env python\n",
    "# coding: utf-8\n",
    "\n",
    "#upload libraries\n",
    "import pandas as pd\n",
    "import numpy as np\n",
    "import json\n",
    "from os import listdir\n",
    "from os.path import isfile, join\n",
    "from itertools import islice\n",
    "import re\n",
    "import progressbar\n",
    "\n",
    "# In[1]:\n",
    "from helper_text import main_clean\n",
    "from model import load_model\n",
    "\n",
    "\n",
    "model = load_model()"
   ]
  },
  {
   "cell_type": "code",
   "execution_count": 2,
   "metadata": {},
   "outputs": [
    {
     "name": "stdout",
     "output_type": "stream",
     "text": [
      "files are:  ['HK English.db', 'tweet.json', 'user_profile.json']\n"
     ]
    }
   ],
   "source": [
    "#get list of files in our directory so we can loop through them \n",
    "\n",
    "path = \"C:/Users/ericluo04/Documents/GitHub/Bots-Project/Code/1. HK Dataset/HK English/\"\n",
    "all_files = [f for f in listdir(path) if isfile(join(path, f))]\n",
    "\n",
    "print('files are: ', all_files)"
   ]
  },
  {
   "cell_type": "code",
   "execution_count": 11,
   "metadata": {},
   "outputs": [
    {
     "name": "stdout",
     "output_type": "stream",
     "text": [
      "files used:  ['tweet.json']\n"
     ]
    }
   ],
   "source": [
    "#define dictionary where users are keys \n",
    "tweet_id =dict()\n",
    "count = 0. #to track how many batches of data we visited \n",
    "\n",
    "int_files = [all_files[1]] #choose the files we want to mine through\n",
    "print('files used: ', int_files)"
   ]
  },
  {
   "cell_type": "code",
   "execution_count": 12,
   "metadata": {},
   "outputs": [],
   "source": [
    "def update(tweet_id, tweets):\n",
    "    '''\n",
    "    takes as input:\n",
    "    tweet_id: dictionary where keys are tweet_id and values are the user's information and polarity\n",
    "    tweets: dictionary of tweets as available in The Hard Drive \n",
    "    Output:\n",
    "    tweet_id: Update the tweet_id dictionary entered with new information from the tweets data input\n",
    "    '''\n",
    "    bar = progressbar.ProgressBar()\n",
    "    for twt in bar(tweets):\n",
    "        id_ = twt['tweet_id']\n",
    "        u = dict()\n",
    "        # tweet level info\n",
    "        u['id'] = id_\n",
    "        u['tweet'] = twt['text']\n",
    "        u['language'] = twt['lang']\n",
    "        u['created_at'] = twt['created_at']\n",
    "        # user level info\n",
    "        u['user_id'] = twt['user_id']\n",
    "        u['name'] = twt['name']\n",
    "        u['screen_name'] = twt['screen_name']\n",
    "        u['description'] = twt['description']\n",
    "        u['location'] = twt['location']\n",
    "        # user level statistics\n",
    "        u['n_followers'] = twt['followers_count']\n",
    "        u['n_friends'] = twt['friends_count']\n",
    "        u['n_tweets_user'] = twt['statuses_count']\n",
    "        \n",
    "        x, x_s = main_clean(twt['text'])\n",
    "        p = model.predict([x, x_s])[:,1][0]\n",
    "        u['polarity'] = p\n",
    "\n",
    "        tweet_id[id_] = u\n",
    "    return(tweet_id)"
   ]
  },
  {
   "cell_type": "code",
   "execution_count": 14,
   "metadata": {},
   "outputs": [
    {
     "name": "stderr",
     "output_type": "stream",
     "text": [
      "100% |########################################################################|\n"
     ]
    },
    {
     "name": "stdout",
     "output_type": "stream",
     "text": [
      "4859\n",
      "number of tweets in total:  4859\n"
     ]
    }
   ],
   "source": [
    "for file in int_files:\n",
    "    path_file = path + file\n",
    "    n = 5000  # Or whatever chunk size you want\n",
    "    with open(path_file, 'r') as f:\n",
    "        for tweets in iter(lambda: list(islice((json.loads(line) for line in f), n)), []):\n",
    "            tweet_id = update(tweet_id, tweets)\n",
    "            print(len(tweet_id))\n",
    "            count += 1\n",
    "            #save every 10 chunks of data (This is just a precaution in case of memory failure, we would have saved something)\n",
    "            if count % 10 == 0:\n",
    "                file_name = 'polarities_checkpoint/master_polarities_' + str(len(tweet_id)) + '.npy'\n",
    "                np.save(file_name, tweet_id)\n",
    "            break\n",
    "print('number of tweets in total: ', len(tweet_id))\n",
    "\n",
    "#sae final file\n",
    "file_name = 'polarities_checkpoint/master_polarities_' + str(len(tweet_id)) + '.npy'\n",
    "np.save(file_name, tweet_id)\n",
    "\n",
    "#save as csv\n",
    "pd.DataFrame.from_dict(tweet_id).T.to_csv('master_new.csv')"
   ]
  },
  {
   "cell_type": "code",
   "execution_count": null,
   "metadata": {},
   "outputs": [],
   "source": []
  },
  {
   "cell_type": "code",
   "execution_count": null,
   "metadata": {},
   "outputs": [],
   "source": []
  },
  {
   "cell_type": "code",
   "execution_count": null,
   "metadata": {},
   "outputs": [],
   "source": []
  }
 ],
 "metadata": {
  "kernelspec": {
   "display_name": "Python 3",
   "language": "python",
   "name": "python3"
  },
  "language_info": {
   "codemirror_mode": {
    "name": "ipython",
    "version": 3
   },
   "file_extension": ".py",
   "mimetype": "text/x-python",
   "name": "python",
   "nbconvert_exporter": "python",
   "pygments_lexer": "ipython3",
   "version": "3.7.3"
  }
 },
 "nbformat": 4,
 "nbformat_minor": 2
}
